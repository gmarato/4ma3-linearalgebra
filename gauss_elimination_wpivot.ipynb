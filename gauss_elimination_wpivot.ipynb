{
 "metadata": {
  "language_info": {
   "codemirror_mode": {
    "name": "ipython",
    "version": 3
   },
   "file_extension": ".py",
   "mimetype": "text/x-python",
   "name": "python",
   "nbconvert_exporter": "python",
   "pygments_lexer": "ipython3",
   "version": "3.8.6-final"
  },
  "orig_nbformat": 2,
  "kernelspec": {
   "name": "python3",
   "display_name": "Python 3",
   "language": "python"
  }
 },
 "nbformat": 4,
 "nbformat_minor": 2,
 "cells": [
  {
   "cell_type": "code",
   "execution_count": 49,
   "metadata": {},
   "outputs": [],
   "source": [
    "# Gauss elimination implementation with partial pivoting\n",
    " \n",
    "import numpy as np\n",
    "import pprint as pprint"
   ]
  },
  {
   "cell_type": "code",
   "execution_count": 50,
   "metadata": {},
   "outputs": [
    {
     "output_type": "stream",
     "name": "stdout",
     "text": [
      "Original array Ab:\narray([[ 1.,  2.,  1., -1.,  5.],\n       [ 3.,  2.,  4.,  4., 16.],\n       [ 4.,  4.,  3.,  4., 22.],\n       [ 2.,  0.,  1.,  5., 15.]])\n"
     ]
    }
   ],
   "source": [
    "# Ab combined array for the exercise\n",
    "a = np.array( [[1.00, 2.00,  1.0, -1.00,  5.00],\n",
    "               [3.00, 2.00, 4.00,  4.00, 16.00],\n",
    "               [4.00, 4.00, 3.00,  4.00, 22.00],\n",
    "               [2.00, 0.00, 1.00,  5.00, 15.00] ])\n",
    "\n",
    "print('Original array Ab:')\n",
    "pprint.pprint(a)"
   ]
  },
  {
   "cell_type": "code",
   "execution_count": 51,
   "metadata": {},
   "outputs": [],
   "source": [
    "# calculating length of array Ab\n",
    "n = len(a)"
   ]
  },
  {
   "cell_type": "code",
   "execution_count": 52,
   "metadata": {},
   "outputs": [
    {
     "output_type": "stream",
     "name": "stdout",
     "text": [
      "\n -------- Iteration #0 -------- \n\nArray:\narray([[ 4.  ,  4.  ,  3.  ,  4.  , 22.  ],\n       [ 0.  , -1.  ,  1.75,  1.  , -0.5 ],\n       [ 0.  ,  1.  ,  0.25, -2.  , -0.5 ],\n       [ 0.  , -2.  , -0.5 ,  3.  ,  4.  ]])\n\nMultiplier array:\narray([[0.  , 0.  , 0.  , 0.  , 0.  ],\n       [0.75, 0.  , 0.  , 0.  , 0.  ],\n       [0.25, 0.  , 0.  , 0.  , 0.  ],\n       [0.5 , 0.  , 0.  , 0.  , 0.  ]])\n\n -------- Iteration #1 -------- \n\nArray:\narray([[ 4.  ,  4.  ,  3.  ,  4.  , 22.  ],\n       [ 0.  ,  1.  ,  0.25, -2.  , -0.5 ],\n       [ 0.  ,  0.  ,  2.  , -1.  , -1.  ],\n       [ 0.  ,  0.  ,  0.  , -1.  ,  3.  ]])\n\nMultiplier array:\narray([[ 0.  ,  0.  ,  0.  ,  0.  ,  0.  ],\n       [ 0.75,  0.  ,  0.  ,  0.  ,  0.  ],\n       [ 0.25, -1.  ,  0.  ,  0.  ,  0.  ],\n       [ 0.5 , -2.  ,  0.  ,  0.  ,  0.  ]])\n\n -------- Iteration #2 -------- \n\nArray:\narray([[ 4.  ,  4.  ,  3.  ,  4.  , 22.  ],\n       [ 0.  ,  1.  ,  0.25, -2.  , -0.5 ],\n       [ 0.  ,  0.  ,  2.  , -1.  , -1.  ],\n       [ 0.  ,  0.  ,  0.  , -1.  ,  3.  ]])\n\nMultiplier array:\narray([[ 0.  ,  0.  ,  0.  ,  0.  ,  0.  ],\n       [ 0.75,  0.  ,  0.  ,  0.  ,  0.  ],\n       [ 0.25, -1.  ,  0.  ,  0.  ,  0.  ],\n       [ 0.5 , -2.  ,  0.  ,  0.  ,  0.  ]])\n\n -------- Iteration #3 -------- \n\nArray:\narray([[ 4.  ,  4.  ,  3.  ,  4.  , 22.  ],\n       [ 0.  ,  1.  ,  0.25, -2.  , -0.5 ],\n       [ 0.  ,  0.  ,  2.  , -1.  , -1.  ],\n       [ 0.  ,  0.  ,  0.  , -1.  ,  3.  ]])\n\nMultiplier array:\narray([[ 0.  ,  0.  ,  0.  ,  0.  ,  0.  ],\n       [ 0.75,  0.  ,  0.  ,  0.  ,  0.  ],\n       [ 0.25, -1.  ,  0.  ,  0.  ,  0.  ],\n       [ 0.5 , -2.  ,  0.  ,  0.  ,  0.  ]])\n"
     ]
    }
   ],
   "source": [
    "# gauss elimination algorithm\n",
    "\n",
    "# initializing empty array for multiplier calculation\n",
    "mp = np.zeros(shape=(4,5))\n",
    "\n",
    "for k in range(n):\n",
    "    p=k\n",
    "    for i in range(k, n):\n",
    "        if a[i][k] >= a[p][k]:\n",
    "            p = i\n",
    "    if p!=k:\n",
    "        a[[p, k]] = a[[k, p]]\n",
    "    \n",
    "    if a[k][k] == 0:\n",
    "        break\n",
    "\n",
    "    for i in range(k+1, n):\n",
    "        mp[i][k] = a[i][k]/a[k][k]\n",
    "   \n",
    "        for j in range(n+1):\n",
    "            a[i][j] = a[i][j] - mp[i][k] * a[k][j]\n",
    "\n",
    "    print('\\n -------- Iteration #%d -------- '%(k))\n",
    "    print('\\nArray:')\n",
    "    pprint.pprint(a)\n",
    "    print('\\nMultiplier array:')\n",
    "    pprint.pprint(mp)"
   ]
  },
  {
   "cell_type": "code",
   "execution_count": 53,
   "metadata": {},
   "outputs": [],
   "source": [
    "# splitting the array a into u and b for back substitution\n",
    "u = np.delete(a,n,1)\n",
    "b = np.delete(a,range(n),1)"
   ]
  },
  {
   "cell_type": "code",
   "execution_count": 54,
   "metadata": {},
   "outputs": [
    {
     "output_type": "stream",
     "name": "stdout",
     "text": [
      "Back substitution results:\nx0: 16.00\nx1: -6.00\nx2: -2.00\nx3: -3.00\n"
     ]
    }
   ],
   "source": [
    "# back substitution algorithm\n",
    "\n",
    "# array for x results\n",
    "x=np.zeros(n)\n",
    "\n",
    "for j in reversed(range(n)):\n",
    "    if u[j][j] == 0:\n",
    "        break\n",
    "    \n",
    "    x[j] = b[j] / u[j][j]\n",
    "\n",
    "    for i in range(j):\n",
    "        b[i] = b[i] - u[i][j]*x[j]\n",
    "\n",
    "\n",
    "print('Back substitution results:')\n",
    "for i in range (len(x)):\n",
    "    print('x%d: %2.2f' %(i,x[i])) "
   ]
  },
  {
   "cell_type": "code",
   "execution_count": null,
   "metadata": {},
   "outputs": [],
   "source": []
  }
 ]
}