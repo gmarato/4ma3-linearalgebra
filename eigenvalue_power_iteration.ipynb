{
 "metadata": {
  "language_info": {
   "codemirror_mode": {
    "name": "ipython",
    "version": 3
   },
   "file_extension": ".py",
   "mimetype": "text/x-python",
   "name": "python",
   "nbconvert_exporter": "python",
   "pygments_lexer": "ipython3",
   "version": "3.9.2-final"
  },
  "orig_nbformat": 2,
  "kernelspec": {
   "name": "python3",
   "display_name": "Python 3.9.2 64-bit",
   "metadata": {
    "interpreter": {
     "hash": "38740d3277777e2cd7c6c2cc9d8addf5118fdf3f82b1b39231fd12aeac8aee8b"
    }
   }
  }
 },
 "nbformat": 4,
 "nbformat_minor": 2,
 "cells": [
  {
   "cell_type": "code",
   "execution_count": 1,
   "metadata": {},
   "outputs": [],
   "source": [
    "# Gauss elimination implementation without pivoting \n",
    "\n",
    "import numpy as np\n",
    "import pprint as pprint"
   ]
  },
  {
   "cell_type": "code",
   "execution_count": 2,
   "metadata": {},
   "outputs": [
    {
     "output_type": "stream",
     "name": "stdout",
     "text": [
      "array([[3, 1],\n       [1, 3]])\narray([[0],\n       [1]])\n"
     ]
    }
   ],
   "source": [
    "A = np.array( [[3, 1],\n",
    "               [1, 3]] )\n",
    "\n",
    "\n",
    "start_vector = np.array( [[0],\n",
    "                          [1]] )\n",
    "\n",
    "pprint.pprint(A)\n",
    "pprint.pprint(start_vector)"
   ]
  },
  {
   "cell_type": "code",
   "execution_count": 15,
   "metadata": {},
   "outputs": [
    {
     "output_type": "stream",
     "name": "stdout",
     "text": [
      "1 [1] [3] [3.] [9700.]\n2 [6] [10] [3.33333333] [33.33333333]\n3 [28] [36] [3.6] [26.66666667]\n4 [120] [136] [3.77777778] [17.77777778]\n5 [496] [528] [3.88235294] [10.45751634]\n6 [2016] [2080] [3.93939394] [5.70409982]\n7 [8128] [8256] [3.96923077] [2.98368298]\n8 [32640] [32896] [3.98449612] [1.52653548]\n9 [130816] [131328] [3.9922179] [0.77217748]\n10 [523776] [524800] [3.99610136] [0.38834657]\n11 [2096128] [2098176] [3.99804878] [0.1947416]\n12 [8386560] [8390656] [3.99902391] [0.09751336]\n"
     ]
    }
   ],
   "source": [
    "stop_tolerance = 0.1 # eignevalue is not changing by much\n",
    "ratio_tolerance = 100 # large initial value \n",
    "ratio_prev = ratio_tolerance\n",
    "x = start_vector\n",
    "k = 1\n",
    "\n",
    "while stop_tolerance < ratio_tolerance:\n",
    "    x_prev = x\n",
    "    x = np.dot(A, x)\n",
    "\n",
    "    ratio = abs( x[1] / x_prev[1] )\n",
    "    ratio_tolerance = abs( (ratio - ratio_prev) * 100 )\n",
    "    ratio_prev = ratio\n",
    "\n",
    "    print(k, x[0], x[1], ratio, ratio_tolerance) \n",
    "    \n",
    "    k+=1"
   ]
  },
  {
   "cell_type": "code",
   "execution_count": null,
   "metadata": {},
   "outputs": [],
   "source": []
  }
 ]
}